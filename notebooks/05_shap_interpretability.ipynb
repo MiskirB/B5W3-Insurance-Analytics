{
 "cells": [
  {
   "cell_type": "code",
   "execution_count": 2,
   "metadata": {},
   "outputs": [
    {
     "name": "stdout",
     "output_type": "stream",
     "text": [
      "\n",
      "✅ SHAP Interpretability Summary\n",
      "===============================\n",
      "• Model: Random Forest\n",
      "• Dataset: First 100 rows\n",
      "• Features: ['Province', 'VehicleType', 'RegistrationYear', 'make', 'SumInsured', 'CalculatedPremiumPerTerm']\n",
      "\n",
      "Files saved:\n",
      "- SHAP Beeswarm: shap_beeswarm.png\n",
      "- SHAP Feature Importance: shap_feature_importance.png\n",
      "\n"
     ]
    }
   ],
   "source": [
    "import shap\n",
    "import joblib\n",
    "import pandas as pd\n",
    "import numpy as np\n",
    "import matplotlib.pyplot as plt\n",
    "from sklearn.preprocessing import OneHotEncoder\n",
    "import os\n",
    "\n",
    "# Load data\n",
    "df = pd.read_csv(\"../data/MachineLearningRating_v3.txt\", delimiter=\"|\", low_memory=False)\n",
    "df[\"ClaimOccurred\"] = (df[\"TotalClaims\"] > 0).astype(int)\n",
    "df[\"Margin\"] = df[\"TotalPremium\"] - df[\"TotalClaims\"]\n",
    "severity_df = df[df[\"TotalClaims\"] > 0].copy()\n",
    "\n",
    "# Select features\n",
    "features = [\"Province\", \"VehicleType\", \"RegistrationYear\", \"make\", \"SumInsured\", \"CalculatedPremiumPerTerm\"]\n",
    "severity_df = severity_df.dropna(subset=features + [\"TotalClaims\"])\n",
    "X = severity_df[features]\n",
    "y = severity_df[\"TotalClaims\"]\n",
    "\n",
    "# One-hot encode\n",
    "categorical_cols = X.select_dtypes(include=[\"object\"]).columns\n",
    "numerical_cols = X.select_dtypes(exclude=[\"object\"]).columns\n",
    "encoder = OneHotEncoder(handle_unknown=\"ignore\", sparse_output=False)\n",
    "X_cat = encoder.fit_transform(X[categorical_cols])\n",
    "X_num = X[numerical_cols].values\n",
    "X_encoded = np.hstack((X_cat, X_num))\n",
    "\n",
    "# Load trained Random Forest model\n",
    "model = joblib.load(\"outputs/task4/random_forest_model.joblib\")\n",
    "\n",
    "# SHAP explainability (use TreeExplainer for tree-based models)\n",
    "explainer = shap.TreeExplainer(model)\n",
    "shap_values = explainer.shap_values(X_encoded[:100])\n",
    "\n",
    "# Create output directory\n",
    "output_dir = \"outputs/task4/shap\"\n",
    "os.makedirs(output_dir, exist_ok=True)\n",
    "\n",
    "# SHAP Beeswarm Plot\n",
    "plt.figure()\n",
    "shap.summary_plot(shap_values, X_encoded[:100], show=False)\n",
    "plt.savefig(f\"{output_dir}/shap_beeswarm.png\")\n",
    "plt.close()\n",
    "\n",
    "# SHAP Bar Plot\n",
    "plt.figure()\n",
    "shap.summary_plot(shap_values, X_encoded[:100], plot_type=\"bar\", show=False)\n",
    "plt.savefig(f\"{output_dir}/shap_feature_importance.png\")\n",
    "plt.close()\n",
    "\n",
    "# Text summary file\n",
    "summary_text = f\"\"\"\n",
    "✅ SHAP Interpretability Summary\n",
    "===============================\n",
    "• Model: Random Forest\n",
    "• Dataset: First 100 rows\n",
    "• Features: {features}\n",
    "\n",
    "Files saved:\n",
    "- SHAP Beeswarm: shap_beeswarm.png\n",
    "- SHAP Feature Importance: shap_feature_importance.png\n",
    "\"\"\"\n",
    "\n",
    "with open(f\"{output_dir}/shap_summary.txt\", \"w\") as f:\n",
    "    f.write(summary_text)\n",
    "\n",
    "# Print summary in notebook\n",
    "print(summary_text)\n"
   ]
  },
  {
   "cell_type": "code",
   "execution_count": null,
   "metadata": {},
   "outputs": [],
   "source": []
  }
 ],
 "metadata": {
  "kernelspec": {
   "display_name": "venv",
   "language": "python",
   "name": "python3"
  },
  "language_info": {
   "codemirror_mode": {
    "name": "ipython",
    "version": 3
   },
   "file_extension": ".py",
   "mimetype": "text/x-python",
   "name": "python",
   "nbconvert_exporter": "python",
   "pygments_lexer": "ipython3",
   "version": "3.13.2"
  }
 },
 "nbformat": 4,
 "nbformat_minor": 2
}
